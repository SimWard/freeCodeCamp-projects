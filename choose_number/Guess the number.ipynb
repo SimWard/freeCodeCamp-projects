{
 "cells": [
  {
   "cell_type": "code",
   "execution_count": 1,
   "metadata": {},
   "outputs": [],
   "source": [
    "import random"
   ]
  },
  {
   "cell_type": "code",
   "execution_count": 2,
   "metadata": {},
   "outputs": [],
   "source": [
    "def guess(x):\n",
    "    random_number = random.randint(1, x)\n",
    "    guess = 0\n",
    "    while guess != random_number:\n",
    "        guess = int(input(f'Guess a number between 1 and {x}'))\n",
    "        if guess < random_number:\n",
    "            print('Too low.')\n",
    "        elif guess > random_number:\n",
    "            print('Too high.')\n",
    "        \n",
    "    print('Correct!')\n",
    "            \n",
    "    "
   ]
  },
  {
   "cell_type": "code",
   "execution_count": 3,
   "metadata": {
    "scrolled": true
   },
   "outputs": [
    {
     "name": "stdout",
     "output_type": "stream",
     "text": [
      "Too low.\n",
      "Too low.\n",
      "Too low.\n",
      "Correct!\n"
     ]
    }
   ],
   "source": [
    "guess(10)"
   ]
  },
  {
   "cell_type": "code",
   "execution_count": 7,
   "metadata": {},
   "outputs": [],
   "source": [
    "def computer_guess(x):\n",
    "    low = 1\n",
    "    high = x\n",
    "    feedback = \"\"\n",
    "    while feedback != \"correct\":\n",
    "        if low != high:\n",
    "            guess = random.randint(low, high)\n",
    "        else:\n",
    "            guess = low\n",
    "        feedback = input(f'Is {guess} too high, low or correct?').lower()\n",
    "        if feedback == 'high':\n",
    "            high = guess - 1\n",
    "        elif feedback == 'low':\n",
    "            low = guess + 1\n",
    "        elif feedback != 'correct':\n",
    "            print('Need to write \\'high\\', \\'low\\' or \\'correct\\'.')\n",
    "            \n",
    "    print(f'{guess} was the correct guess!')"
   ]
  },
  {
   "cell_type": "code",
   "execution_count": 8,
   "metadata": {},
   "outputs": [
    {
     "name": "stdout",
     "output_type": "stream",
     "text": [
      "4 was the correct guess!\n"
     ]
    }
   ],
   "source": [
    "computer_guess(10)"
   ]
  }
 ],
 "metadata": {
  "kernelspec": {
   "display_name": "Python 3",
   "language": "python",
   "name": "python3"
  },
  "language_info": {
   "codemirror_mode": {
    "name": "ipython",
    "version": 3
   },
   "file_extension": ".py",
   "mimetype": "text/x-python",
   "name": "python",
   "nbconvert_exporter": "python",
   "pygments_lexer": "ipython3",
   "version": "3.6.7"
  }
 },
 "nbformat": 4,
 "nbformat_minor": 2
}
