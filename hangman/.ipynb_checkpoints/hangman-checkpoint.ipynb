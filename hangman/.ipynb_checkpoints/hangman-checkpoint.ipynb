{
 "cells": [
  {
   "cell_type": "code",
   "execution_count": 2,
   "metadata": {},
   "outputs": [],
   "source": [
    "import urllib.request, json\n",
    "import random\n",
    "import string"
   ]
  },
  {
   "cell_type": "code",
   "execution_count": 3,
   "metadata": {},
   "outputs": [],
   "source": [
    "# Kylie copied and pasted the list of words in as a list \n",
    "# but I didn't really want to do that\n",
    "\n",
    "words_url = \"https://www.randomlists.com/data/words.json\"\n",
    "\n",
    "with urllib.request.urlopen(words_url) as url:\n",
    "    words = json.loads(url.read().decode())['data']\n",
    "\n",
    "# Removing hyphens and spaces as they make for a terrible game of hangman \n",
    "words = [w for w in words if (\"-\" not in w) and (\" \" not in w)]"
   ]
  },
  {
   "cell_type": "code",
   "execution_count": 34,
   "metadata": {},
   "outputs": [],
   "source": [
    "def hangman(lives=6):\n",
    "    word = random.choice(words).upper()\n",
    "    word_letters = set(word) #unique letters in the word\n",
    "    alphabet = set(string.ascii_uppercase)\n",
    "    used_letters = set()\n",
    "    \n",
    "    lives = lives\n",
    "    while len(word_letters) > 0 and lives > 0:\n",
    "        \n",
    "        # Letters used\n",
    "        print(f\"You have {lives} lives left and have used these letters: {' '.join(used_letters)}\")\n",
    "        \n",
    "        # The current state of the word (e.g. H-NGM-N)\n",
    "        word_list = [l if l in used_letters else '-' for l in word]\n",
    "        print('Current word: ', ' '.join(word_list))\n",
    "        \n",
    "        user_letter = input('Guess a letter: ').upper()\n",
    "        if user_letter in alphabet - used_letters:\n",
    "            used_letters.add(user_letter)\n",
    "            if user_letter in word_letters:\n",
    "                word_letters.remove(user_letter)\n",
    "                \n",
    "            else:\n",
    "                lives = lives - 1\n",
    "                print('Letter is not in word')\n",
    "\n",
    "        elif user_letter in used_letters:\n",
    "            print('Already guessed that letter. Please try again!')\n",
    "\n",
    "        else:\n",
    "            print('Invalid input. Try again.')\n",
    "    \n",
    "    if lives == 0:\n",
    "        print(f'You lost... Bad luck! The word was {word}')\n",
    "    else:\n",
    "        print(f'Congratulations! You got the word {word} with {len(used_letters) - len(set(word))} incorrect guesses! Can you beat this score?')\n",
    "    "
   ]
  },
  {
   "cell_type": "code",
   "execution_count": 35,
   "metadata": {},
   "outputs": [
    {
     "name": "stdout",
     "output_type": "stream",
     "text": [
      "You have 6 lives left and have used these letters: \n",
      "Current word:  - - - - - - -\n",
      "Letter is not in word\n",
      "You have 5 lives left and have used these letters: E\n",
      "Current word:  - - - - - - -\n",
      "You have 5 lives left and have used these letters: S E\n",
      "Current word:  - - - - - S -\n",
      "Letter is not in word\n",
      "You have 4 lives left and have used these letters: S T E\n",
      "Current word:  - - - - - S -\n",
      "You have 4 lives left and have used these letters: O S T E\n",
      "Current word:  - O O - - S -\n",
      "You have 4 lives left and have used these letters: O T B S E\n",
      "Current word:  B O O - - S -\n",
      "You have 4 lives left and have used these letters: R O T B S E\n",
      "Current word:  B O O R - S -\n",
      "You have 4 lives left and have used these letters: R I O T B S E\n",
      "Current word:  B O O R I S -\n",
      "Congratulations! You got the word BOORISH with 2 incorrect guesses! Can you beat this score?\n"
     ]
    }
   ],
   "source": [
    "hangman()"
   ]
  }
 ],
 "metadata": {
  "kernelspec": {
   "display_name": "Python 3",
   "language": "python",
   "name": "python3"
  },
  "language_info": {
   "codemirror_mode": {
    "name": "ipython",
    "version": 3
   },
   "file_extension": ".py",
   "mimetype": "text/x-python",
   "name": "python",
   "nbconvert_exporter": "python",
   "pygments_lexer": "ipython3",
   "version": "3.6.7"
  }
 },
 "nbformat": 4,
 "nbformat_minor": 2
}
